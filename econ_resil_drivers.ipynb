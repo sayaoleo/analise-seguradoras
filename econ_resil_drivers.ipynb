{
 "cells": [
  {
   "cell_type": "code",
   "execution_count": 1,
   "metadata": {},
   "outputs": [],
   "source": [
    "\n",
    "%matplotlib inline\n",
    "import numpy as np\n",
    "import pandas as pd\n",
    "\n",
    "import matplotlib.pyplot as plt\n",
    "import seaborn as sns\n",
    "\n",
    "from sklearn import datasets, metrics\n",
    "from sklearn.linear_model import LinearRegression\n",
    "from sklearn.model_selection import train_test_split, cross_val_score\n",
    "\n",
    "from   sklearn.metrics import r2_score\n",
    "import statsmodels.api as sm"
   ]
  },
  {
   "cell_type": "code",
   "execution_count": 2,
   "metadata": {},
   "outputs": [
    {
     "data": {
      "text/html": [
       "<div>\n",
       "<style scoped>\n",
       "    .dataframe tbody tr th:only-of-type {\n",
       "        vertical-align: middle;\n",
       "    }\n",
       "\n",
       "    .dataframe tbody tr th {\n",
       "        vertical-align: top;\n",
       "    }\n",
       "\n",
       "    .dataframe thead th {\n",
       "        text-align: right;\n",
       "    }\n",
       "</style>\n",
       "<table border=\"1\" class=\"dataframe\">\n",
       "  <thead>\n",
       "    <tr style=\"text-align: right;\">\n",
       "      <th></th>\n",
       "      <th>Economic_Resilience_Index</th>\n",
       "      <th>Country</th>\n",
       "      <th>Fiscal_space</th>\n",
       "      <th>Monetary_policy_space</th>\n",
       "      <th>low-carbon_economy</th>\n",
       "      <th>Insurance_penetration</th>\n",
       "      <th>Financial_Market_development</th>\n",
       "      <th>Human_capital</th>\n",
       "      <th>Economic_complexity</th>\n",
       "      <th>Labour_market_efficiency</th>\n",
       "      <th>Banking_industry_backdrop</th>\n",
       "      <th>Macroeconomic_Resilience_index</th>\n",
       "      <th>Year</th>\n",
       "    </tr>\n",
       "  </thead>\n",
       "  <tbody>\n",
       "    <tr>\n",
       "      <th>0</th>\n",
       "      <td>1</td>\n",
       "      <td>Switzerland</td>\n",
       "      <td>1.00</td>\n",
       "      <td>0.08</td>\n",
       "      <td>1.00</td>\n",
       "      <td>0.70</td>\n",
       "      <td>1.00</td>\n",
       "      <td>0.83</td>\n",
       "      <td>1.00</td>\n",
       "      <td>0.92</td>\n",
       "      <td>1.00</td>\n",
       "      <td>0.84</td>\n",
       "      <td>2019</td>\n",
       "    </tr>\n",
       "    <tr>\n",
       "      <th>1</th>\n",
       "      <td>2</td>\n",
       "      <td>Canada</td>\n",
       "      <td>0.99</td>\n",
       "      <td>0.17</td>\n",
       "      <td>0.44</td>\n",
       "      <td>0.62</td>\n",
       "      <td>1.00</td>\n",
       "      <td>0.93</td>\n",
       "      <td>0.45</td>\n",
       "      <td>0.95</td>\n",
       "      <td>0.88</td>\n",
       "      <td>0.81</td>\n",
       "      <td>2019</td>\n",
       "    </tr>\n",
       "    <tr>\n",
       "      <th>2</th>\n",
       "      <td>3</td>\n",
       "      <td>Finland</td>\n",
       "      <td>0.99</td>\n",
       "      <td>0.08</td>\n",
       "      <td>0.66</td>\n",
       "      <td>0.91</td>\n",
       "      <td>0.88</td>\n",
       "      <td>1.00</td>\n",
       "      <td>0.83</td>\n",
       "      <td>1.00</td>\n",
       "      <td>0.73</td>\n",
       "      <td>0.80</td>\n",
       "      <td>2019</td>\n",
       "    </tr>\n",
       "    <tr>\n",
       "      <th>3</th>\n",
       "      <td>4</td>\n",
       "      <td>United States</td>\n",
       "      <td>0.96</td>\n",
       "      <td>0.17</td>\n",
       "      <td>0.40</td>\n",
       "      <td>1.00</td>\n",
       "      <td>1.00</td>\n",
       "      <td>0.82</td>\n",
       "      <td>0.85</td>\n",
       "      <td>0.79</td>\n",
       "      <td>1.00</td>\n",
       "      <td>0.80</td>\n",
       "      <td>2019</td>\n",
       "    </tr>\n",
       "    <tr>\n",
       "      <th>4</th>\n",
       "      <td>5</td>\n",
       "      <td>Norway</td>\n",
       "      <td>0.99</td>\n",
       "      <td>0.16</td>\n",
       "      <td>1.00</td>\n",
       "      <td>0.29</td>\n",
       "      <td>0.73</td>\n",
       "      <td>0.73</td>\n",
       "      <td>0.37</td>\n",
       "      <td>0.89</td>\n",
       "      <td>0.81</td>\n",
       "      <td>0.76</td>\n",
       "      <td>2019</td>\n",
       "    </tr>\n",
       "  </tbody>\n",
       "</table>\n",
       "</div>"
      ],
      "text/plain": [
       "   Economic_Resilience_Index        Country  Fiscal_space  \\\n",
       "0                          1    Switzerland          1.00   \n",
       "1                          2         Canada          0.99   \n",
       "2                          3        Finland          0.99   \n",
       "3                          4  United States          0.96   \n",
       "4                          5         Norway          0.99   \n",
       "\n",
       "   Monetary_policy_space  low-carbon_economy  Insurance_penetration  \\\n",
       "0                   0.08                1.00                   0.70   \n",
       "1                   0.17                0.44                   0.62   \n",
       "2                   0.08                0.66                   0.91   \n",
       "3                   0.17                0.40                   1.00   \n",
       "4                   0.16                1.00                   0.29   \n",
       "\n",
       "   Financial_Market_development  Human_capital  Economic_complexity  \\\n",
       "0                          1.00           0.83                 1.00   \n",
       "1                          1.00           0.93                 0.45   \n",
       "2                          0.88           1.00                 0.83   \n",
       "3                          1.00           0.82                 0.85   \n",
       "4                          0.73           0.73                 0.37   \n",
       "\n",
       "   Labour_market_efficiency  Banking_industry_backdrop  \\\n",
       "0                      0.92                       1.00   \n",
       "1                      0.95                       0.88   \n",
       "2                      1.00                       0.73   \n",
       "3                      0.79                       1.00   \n",
       "4                      0.89                       0.81   \n",
       "\n",
       "   Macroeconomic_Resilience_index  Year  \n",
       "0                            0.84  2019  \n",
       "1                            0.81  2019  \n",
       "2                            0.80  2019  \n",
       "3                            0.80  2019  \n",
       "4                            0.76  2019  "
      ]
     },
     "execution_count": 2,
     "metadata": {},
     "output_type": "execute_result"
    }
   ],
   "source": [
    "df_completo = pd.read_csv(\"..\\\\Dados\\\\economic_r_index.csv\", sep=\";\")\n",
    "df_completo.head()"
   ]
  },
  {
   "cell_type": "code",
   "execution_count": 3,
   "metadata": {},
   "outputs": [
    {
     "name": "stdout",
     "output_type": "stream",
     "text": [
      "<class 'pandas.core.frame.DataFrame'>\n",
      "RangeIndex: 403 entries, 0 to 402\n",
      "Data columns (total 13 columns):\n",
      " #   Column                          Non-Null Count  Dtype  \n",
      "---  ------                          --------------  -----  \n",
      " 0   Economic_Resilience_Index       403 non-null    int64  \n",
      " 1   Country                         403 non-null    object \n",
      " 2   Fiscal_space                    403 non-null    float64\n",
      " 3   Monetary_policy_space           403 non-null    float64\n",
      " 4   low-carbon_economy              403 non-null    float64\n",
      " 5   Insurance_penetration           403 non-null    float64\n",
      " 6   Financial_Market_development    403 non-null    float64\n",
      " 7   Human_capital                   403 non-null    float64\n",
      " 8   Economic_complexity             403 non-null    float64\n",
      " 9   Labour_market_efficiency        403 non-null    float64\n",
      " 10  Banking_industry_backdrop       403 non-null    float64\n",
      " 11  Macroeconomic_Resilience_index  403 non-null    float64\n",
      " 12  Year                            403 non-null    int64  \n",
      "dtypes: float64(10), int64(2), object(1)\n",
      "memory usage: 41.1+ KB\n"
     ]
    }
   ],
   "source": [
    "df_completo.info()"
   ]
  },
  {
   "cell_type": "code",
   "execution_count": 4,
   "metadata": {},
   "outputs": [
    {
     "data": {
      "text/plain": [
       "Economic_Resilience_Index         False\n",
       "Country                           False\n",
       "Fiscal_space                      False\n",
       "Monetary_policy_space             False\n",
       "low-carbon_economy                False\n",
       "Insurance_penetration             False\n",
       "Financial_Market_development      False\n",
       "Human_capital                     False\n",
       "Economic_complexity               False\n",
       "Labour_market_efficiency          False\n",
       "Banking_industry_backdrop         False\n",
       "Macroeconomic_Resilience_index    False\n",
       "Year                              False\n",
       "dtype: bool"
      ]
     },
     "execution_count": 4,
     "metadata": {},
     "output_type": "execute_result"
    }
   ],
   "source": [
    "df_completo.isnull().any()"
   ]
  },
  {
   "cell_type": "code",
   "execution_count": 5,
   "metadata": {},
   "outputs": [],
   "source": [
    "\n",
    "evaluation = pd.DataFrame(\n",
    "    {\n",
    "        \"Model\": [],\n",
    "        \"Details\": [],\n",
    "        \"Root Mean Squared Error (RMSE)\": [],\n",
    "        \"R-squared (training)\": [],\n",
    "        \"Adjusted R-squared (training)\": [],\n",
    "        \"R-squared (test)\": [],\n",
    "        \"Adjusted R-squared (test)\": [],\n",
    "        \"5-Fold Cross Validation\": []\n",
    "    }\n",
    ")"
   ]
  },
  {
   "cell_type": "code",
   "execution_count": 6,
   "metadata": {},
   "outputs": [],
   "source": [
    "def adjusted_r2(r2, n, k):\n",
    "    return r2 - (n - 1) * (1 - r2) / (n - k - 1)"
   ]
  },
  {
   "cell_type": "code",
   "execution_count": 30,
   "metadata": {},
   "outputs": [
    {
     "name": "stdout",
     "output_type": "stream",
     "text": [
      "Intercept: 0.25179543094752965\n",
      "Coefficients: [ 0.17652018 -0.18078808  0.3132374   0.12528609  0.2340133  -0.49939271]\n"
     ]
    }
   ],
   "source": [
    "train_data, test_data = train_test_split(df_completo, train_size=0.7, random_state=2)\n",
    "\n",
    "independent_var = [\"Financial_Market_development\", \n",
    "                   \"low-carbon_economy\",  \n",
    "                   \"Economic_complexity\", \n",
    "                   \"Labour_market_efficiency\", \n",
    "                   \"Banking_industry_backdrop\",\n",
    "                   #\"Fiscal_space\", \n",
    "                   \"Monetary_policy_space\" ,\n",
    "                   #\"Human_capital\"\n",
    "                  ]\n",
    "lin_reg = LinearRegression()\n",
    "lin_reg.fit(train_data[independent_var], train_data[\"Insurance_penetration\"])\n",
    "\n",
    "print(f\"Intercept: {lin_reg.intercept_}\")\n",
    "print(f\"Coefficients: {lin_reg.coef_}\")"
   ]
  },
  {
   "cell_type": "code",
   "execution_count": 21,
   "metadata": {},
   "outputs": [],
   "source": [
    "pred = lin_reg.predict(test_data[independent_var])"
   ]
  },
  {
   "cell_type": "code",
   "execution_count": 22,
   "metadata": {},
   "outputs": [
    {
     "data": {
      "text/html": [
       "<div>\n",
       "<style scoped>\n",
       "    .dataframe tbody tr th:only-of-type {\n",
       "        vertical-align: middle;\n",
       "    }\n",
       "\n",
       "    .dataframe tbody tr th {\n",
       "        vertical-align: top;\n",
       "    }\n",
       "\n",
       "    .dataframe thead th {\n",
       "        text-align: right;\n",
       "    }\n",
       "</style>\n",
       "<table border=\"1\" class=\"dataframe\">\n",
       "  <thead>\n",
       "    <tr style=\"text-align: right;\">\n",
       "      <th></th>\n",
       "      <th>Model</th>\n",
       "      <th>Details</th>\n",
       "      <th>Root Mean Squared Error (RMSE)</th>\n",
       "      <th>R-squared (training)</th>\n",
       "      <th>Adjusted R-squared (training)</th>\n",
       "      <th>R-squared (test)</th>\n",
       "      <th>Adjusted R-squared (test)</th>\n",
       "      <th>5-Fold Cross Validation</th>\n",
       "    </tr>\n",
       "  </thead>\n",
       "  <tbody>\n",
       "    <tr>\n",
       "      <th>2</th>\n",
       "      <td>Multiple Linear Regression-1</td>\n",
       "      <td>Selected features</td>\n",
       "      <td>0.072861</td>\n",
       "      <td>0.478316</td>\n",
       "      <td>-0.054751</td>\n",
       "      <td>0.369687</td>\n",
       "      <td>-0.293800</td>\n",
       "      <td>0.428154</td>\n",
       "    </tr>\n",
       "    <tr>\n",
       "      <th>1</th>\n",
       "      <td>Multiple Linear Regression-1</td>\n",
       "      <td>Selected features</td>\n",
       "      <td>0.073707</td>\n",
       "      <td>0.481129</td>\n",
       "      <td>-0.050999</td>\n",
       "      <td>0.362374</td>\n",
       "      <td>-0.314751</td>\n",
       "      <td>0.426660</td>\n",
       "    </tr>\n",
       "    <tr>\n",
       "      <th>0</th>\n",
       "      <td>Multiple Linear Regression-1</td>\n",
       "      <td>Selected features</td>\n",
       "      <td>0.074468</td>\n",
       "      <td>0.483387</td>\n",
       "      <td>-0.048364</td>\n",
       "      <td>0.355789</td>\n",
       "      <td>-0.334437</td>\n",
       "      <td>0.422711</td>\n",
       "    </tr>\n",
       "  </tbody>\n",
       "</table>\n",
       "</div>"
      ],
      "text/plain": [
       "                          Model            Details  \\\n",
       "2  Multiple Linear Regression-1  Selected features   \n",
       "1  Multiple Linear Regression-1  Selected features   \n",
       "0  Multiple Linear Regression-1  Selected features   \n",
       "\n",
       "   Root Mean Squared Error (RMSE)  R-squared (training)  \\\n",
       "2                        0.072861              0.478316   \n",
       "1                        0.073707              0.481129   \n",
       "0                        0.074468              0.483387   \n",
       "\n",
       "   Adjusted R-squared (training)  R-squared (test)  Adjusted R-squared (test)  \\\n",
       "2                      -0.054751          0.369687                  -0.293800   \n",
       "1                      -0.050999          0.362374                  -0.314751   \n",
       "0                      -0.048364          0.355789                  -0.334437   \n",
       "\n",
       "   5-Fold Cross Validation  \n",
       "2                 0.428154  \n",
       "1                 0.426660  \n",
       "0                 0.422711  "
      ]
     },
     "execution_count": 22,
     "metadata": {},
     "output_type": "execute_result"
    }
   ],
   "source": [
    "rmse = metrics.mean_squared_error(test_data[\"Insurance_penetration\"], pred)\n",
    "r2_train = lin_reg.score(train_data[independent_var], train_data[\"Insurance_penetration\"])\n",
    "ar2_train = adjusted_r2(\n",
    "    r2_train,\n",
    "    train_data.shape[0],\n",
    "    len(independent_var)\n",
    ")\n",
    "\n",
    "r2_test = lin_reg.score(test_data[independent_var], test_data[\"Insurance_penetration\"])\n",
    "ar2_test = adjusted_r2(\n",
    "    r2_test,\n",
    "    test_data.shape[0],\n",
    "    len(independent_var)\n",
    ")\n",
    "\n",
    "cross_val = cross_val_score(lin_reg, df_completo[independent_var], df_completo[\"Insurance_penetration\"], cv=5).mean()\n",
    "\n",
    "r = evaluation.shape[0]\n",
    "evaluation.loc[r] = [\"Multiple Linear Regression-1\", \"Selected features\", rmse, r2_train, ar2_train, r2_test, ar2_test, cross_val]\n",
    "evaluation.sort_values(by=\"5-Fold Cross Validation\", ascending=False)"
   ]
  },
  {
   "cell_type": "code",
   "execution_count": 23,
   "metadata": {},
   "outputs": [],
   "source": [
    "\n",
    "# Retorna um array de zeros com o mesmo shape e tipo do array dado\n",
    "mask = np.zeros_like(df_completo.corr(), dtype=bool)\n",
    "\n",
    "# Retorna os índices apenas do triângulo superior do array\n",
    "mask[np.triu_indices_from(mask)] = True"
   ]
  },
  {
   "cell_type": "code",
   "execution_count": 24,
   "metadata": {},
   "outputs": [
    {
     "data": {
      "text/plain": [
       "<AxesSubplot:title={'center':'Pearson Correlation Matrix'}>"
      ]
     },
     "execution_count": 24,
     "metadata": {},
     "output_type": "execute_result"
    },
    {
     "data": {
      "image/png": "[encoded data removed]",
      "text/plain": [
       "<Figure size 864x576 with 2 Axes>"
      ]
     },
     "metadata": {
      "needs_background": "light"
     },
     "output_type": "display_data"
    }
   ],
   "source": [
    "plt.subplots(figsize=(12, 8))\n",
    "plt.title(\"Pearson Correlation Matrix\", fontsize=25)\n",
    "\n",
    "sns.heatmap(\n",
    "    df_completo.corr(),\n",
    "    linewidths=0.25,\n",
    "    square=True,\n",
    "    cmap=\"Blues\",\n",
    "    linecolor=\"w\",\n",
    "    annot=True,\n",
    "    annot_kws={\"size\": 8},\n",
    "    mask=mask,\n",
    "    cbar_kws={\"shrink\": 0.9}\n",
    ")"
   ]
  },
  {
   "cell_type": "code",
   "execution_count": 26,
   "metadata": {},
   "outputs": [
    {
     "name": "stdout",
     "output_type": "stream",
     "text": [
      "                              OLS Regression Results                             \n",
      "=================================================================================\n",
      "Dep. Variable:     Insurance_penetration   R-squared:                       0.457\n",
      "Model:                               OLS   Adj. R-squared:                  0.449\n",
      "Method:                    Least Squares   F-statistic:                     55.62\n",
      "Date:                   Mon, 01 Nov 2021   Prob (F-statistic):           1.15e-49\n",
      "Time:                           10:09:30   Log-Likelihood:                -13.411\n",
      "No. Observations:                    403   AIC:                             40.82\n",
      "Df Residuals:                        396   BIC:                             68.82\n",
      "Df Model:                              6                                         \n",
      "Covariance Type:               nonrobust                                         \n",
      "==============================================================================\n",
      "                 coef    std err          t      P>|t|      [0.025      0.975]\n",
      "------------------------------------------------------------------------------\n",
      "const          0.3185      0.052      6.094      0.000       0.216       0.421\n",
      "x1             0.1599      0.049      3.240      0.001       0.063       0.257\n",
      "x2            -0.2708      0.045     -6.028      0.000      -0.359      -0.182\n",
      "x3             0.3294      0.048      6.906      0.000       0.236       0.423\n",
      "x4             0.1564      0.045      3.511      0.000       0.069       0.244\n",
      "x5             0.1949      0.047      4.166      0.000       0.103       0.287\n",
      "x6            -0.5338      0.116     -4.597      0.000      -0.762      -0.306\n",
      "==============================================================================\n",
      "Omnibus:                       27.895   Durbin-Watson:                   2.099\n",
      "Prob(Omnibus):                  0.000   Jarque-Bera (JB):               31.693\n",
      "Skew:                           0.656   Prob(JB):                     1.31e-07\n",
      "Kurtosis:                       3.410   Cond. No.                         16.2\n",
      "==============================================================================\n",
      "\n",
      "Notes:\n",
      "[1] Standard Errors assume that the covariance matrix of the errors is correctly specified.\n"
     ]
    }
   ],
   "source": [
    "X = np.column_stack((df_completo['Financial_Market_development'], \n",
    "                     df_completo['low-carbon_economy'], \n",
    "                     df_completo['Economic_complexity'], \n",
    "                     df_completo['Labour_market_efficiency'], \n",
    "                     df_completo['Banking_industry_backdrop'],\n",
    "                     #df_completo['Human_capital'], \n",
    "                     df_completo['Monetary_policy_space'] \n",
    "                     #df_completo['Fiscal_space'] \n",
    "                    ))\n",
    "y = df_completo['Insurance_penetration']\n",
    "\n",
    "\n",
    "X2 = sm.add_constant(X)\n",
    "est = sm.OLS(y, X2)\n",
    "est2 = est.fit()\n",
    "print(est2.summary())"
   ]
  },
  {
   "cell_type": "code",
   "execution_count": 13,
   "metadata": {},
   "outputs": [
    {
     "ename": "SyntaxError",
     "evalue": "invalid syntax (<ipython-input-13-316361db083c>, line 4)",
     "output_type": "error",
     "traceback": [
      "\u001b[1;36m  File \u001b[1;32m\"<ipython-input-13-316361db083c>\"\u001b[1;36m, line \u001b[1;32m4\u001b[0m\n\u001b[1;33m    df_completo['Fiscal_space'], df_completo['Human_capital'],\u001b[0m\n\u001b[1;37m    ^\u001b[0m\n\u001b[1;31mSyntaxError\u001b[0m\u001b[1;31m:\u001b[0m invalid syntax\n"
     ]
    }
   ],
   "source": [
    "[\"Fiscal_space\", \"Monetary_policy_space\", \"Financial_Market_development\", \"Human_capital\", \n",
    "                   \"Economic_complexity\", \"Labour_market_efficiency\", \"Banking_industry_backdrop\"\n",
    " \n",
    " df_completo['Fiscal_space'], df_completo['Human_capital'],"
   ]
  },
  {
   "cell_type": "code",
   "execution_count": null,
   "metadata": {},
   "outputs": [],
   "source": [
    "cross_val_score(lin_reg, df_completo[independent_var], df_completo[\"Insurance_penetration\"], cv=5)"
   ]
  },
  {
   "cell_type": "code",
   "execution_count": null,
   "metadata": {},
   "outputs": [],
   "source": []
  }
 ],
 "metadata": {
  "kernelspec": {
   "display_name": "Python 3",
   "language": "python",
   "name": "python3"
  },
  "language_info": {
   "codemirror_mode": {
    "name": "ipython",
    "version": 3
   },
   "file_extension": ".py",
   "mimetype": "text/x-python",
   "name": "python",
   "nbconvert_exporter": "python",
   "pygments_lexer": "ipython3",
   "version": "3.9.6"
  }
 },
 "nbformat": 4,
 "nbformat_minor": 4
}
