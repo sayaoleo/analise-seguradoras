{
 "cells": [
  {
   "cell_type": "code",
   "execution_count": 1,
   "metadata": {},
   "outputs": [],
   "source": [
    "\n",
    "%matplotlib inline\n",
    "import numpy as np\n",
    "import pandas as pd\n",
    "\n",
    "import matplotlib.pyplot as plt\n",
    "import seaborn as sns\n",
    "\n",
    "from sklearn import datasets, metrics\n",
    "from sklearn.linear_model import LinearRegression\n",
    "from sklearn.model_selection import train_test_split, cross_val_score\n",
    "\n",
    "from   sklearn.metrics import r2_score\n",
    "import statsmodels.api as sm"
   ]
  },
  {
   "cell_type": "code",
   "execution_count": 2,
   "metadata": {},
   "outputs": [
    {
     "data": {
      "text/html": [
       "<div>\n",
       "<style scoped>\n",
       "    .dataframe tbody tr th:only-of-type {\n",
       "        vertical-align: middle;\n",
       "    }\n",
       "\n",
       "    .dataframe tbody tr th {\n",
       "        vertical-align: top;\n",
       "    }\n",
       "\n",
       "    .dataframe thead th {\n",
       "        text-align: right;\n",
       "    }\n",
       "</style>\n",
       "<table border=\"1\" class=\"dataframe\">\n",
       "  <thead>\n",
       "    <tr style=\"text-align: right;\">\n",
       "      <th></th>\n",
       "      <th>Economic_Resilience_Index</th>\n",
       "      <th>Country</th>\n",
       "      <th>Fiscal_space</th>\n",
       "      <th>Monetary_policy_space</th>\n",
       "      <th>low-carbon_economy</th>\n",
       "      <th>Insurance_penetration</th>\n",
       "      <th>Financial_Market_development</th>\n",
       "      <th>Human_capital</th>\n",
       "      <th>Economic_complexity</th>\n",
       "      <th>Labour_market_efficiency</th>\n",
       "      <th>Banking_industry_backdrop</th>\n",
       "      <th>Macroeconomic_Resilience_index</th>\n",
       "      <th>Year</th>\n",
       "    </tr>\n",
       "  </thead>\n",
       "  <tbody>\n",
       "    <tr>\n",
       "      <th>0</th>\n",
       "      <td>15</td>\n",
       "      <td>Chile</td>\n",
       "      <td>1.00</td>\n",
       "      <td>0.37</td>\n",
       "      <td>0.77</td>\n",
       "      <td>0.28</td>\n",
       "      <td>0.00</td>\n",
       "      <td>0.36</td>\n",
       "      <td>0.00</td>\n",
       "      <td>1.00</td>\n",
       "      <td>0.37</td>\n",
       "      <td>0.66</td>\n",
       "      <td>2019</td>\n",
       "    </tr>\n",
       "    <tr>\n",
       "      <th>1</th>\n",
       "      <td>20</td>\n",
       "      <td>Brazil</td>\n",
       "      <td>0.75</td>\n",
       "      <td>0.19</td>\n",
       "      <td>0.91</td>\n",
       "      <td>0.21</td>\n",
       "      <td>0.46</td>\n",
       "      <td>0.00</td>\n",
       "      <td>0.20</td>\n",
       "      <td>0.82</td>\n",
       "      <td>0.00</td>\n",
       "      <td>0.52</td>\n",
       "      <td>2019</td>\n",
       "    </tr>\n",
       "    <tr>\n",
       "      <th>2</th>\n",
       "      <td>22</td>\n",
       "      <td>South Africa</td>\n",
       "      <td>0.50</td>\n",
       "      <td>0.65</td>\n",
       "      <td>0.00</td>\n",
       "      <td>1.00</td>\n",
       "      <td>0.31</td>\n",
       "      <td>0.00</td>\n",
       "      <td>0.00</td>\n",
       "      <td>0.76</td>\n",
       "      <td>0.29</td>\n",
       "      <td>0.49</td>\n",
       "      <td>2019</td>\n",
       "    </tr>\n",
       "    <tr>\n",
       "      <th>3</th>\n",
       "      <td>25</td>\n",
       "      <td>India</td>\n",
       "      <td>0.99</td>\n",
       "      <td>0.28</td>\n",
       "      <td>0.50</td>\n",
       "      <td>0.18</td>\n",
       "      <td>0.19</td>\n",
       "      <td>0.00</td>\n",
       "      <td>0.17</td>\n",
       "      <td>0.30</td>\n",
       "      <td>0.00</td>\n",
       "      <td>0.48</td>\n",
       "      <td>2019</td>\n",
       "    </tr>\n",
       "    <tr>\n",
       "      <th>4</th>\n",
       "      <td>26</td>\n",
       "      <td>Russia</td>\n",
       "      <td>1.00</td>\n",
       "      <td>0.43</td>\n",
       "      <td>0.07</td>\n",
       "      <td>0.00</td>\n",
       "      <td>0.00</td>\n",
       "      <td>0.94</td>\n",
       "      <td>0.21</td>\n",
       "      <td>0.00</td>\n",
       "      <td>0.30</td>\n",
       "      <td>0.48</td>\n",
       "      <td>2019</td>\n",
       "    </tr>\n",
       "  </tbody>\n",
       "</table>\n",
       "</div>"
      ],
      "text/plain": [
       "   Economic_Resilience_Index       Country  Fiscal_space  \\\n",
       "0                         15         Chile          1.00   \n",
       "1                         20        Brazil          0.75   \n",
       "2                         22  South Africa          0.50   \n",
       "3                         25         India          0.99   \n",
       "4                         26        Russia          1.00   \n",
       "\n",
       "   Monetary_policy_space  low-carbon_economy  Insurance_penetration  \\\n",
       "0                   0.37                0.77                   0.28   \n",
       "1                   0.19                0.91                   0.21   \n",
       "2                   0.65                0.00                   1.00   \n",
       "3                   0.28                0.50                   0.18   \n",
       "4                   0.43                0.07                   0.00   \n",
       "\n",
       "   Financial_Market_development  Human_capital  Economic_complexity  \\\n",
       "0                          0.00           0.36                 0.00   \n",
       "1                          0.46           0.00                 0.20   \n",
       "2                          0.31           0.00                 0.00   \n",
       "3                          0.19           0.00                 0.17   \n",
       "4                          0.00           0.94                 0.21   \n",
       "\n",
       "   Labour_market_efficiency  Banking_industry_backdrop  \\\n",
       "0                      1.00                       0.37   \n",
       "1                      0.82                       0.00   \n",
       "2                      0.76                       0.29   \n",
       "3                      0.30                       0.00   \n",
       "4                      0.00                       0.30   \n",
       "\n",
       "   Macroeconomic_Resilience_index  Year  \n",
       "0                            0.66  2019  \n",
       "1                            0.52  2019  \n",
       "2                            0.49  2019  \n",
       "3                            0.48  2019  \n",
       "4                            0.48  2019  "
      ]
     },
     "execution_count": 2,
     "metadata": {},
     "output_type": "execute_result"
    }
   ],
   "source": [
    "df_completo = pd.read_csv(\"..\\\\Dados\\\\econ_r_ind_low_countries.csv\", sep=\";\")\n",
    "df_completo.head()"
   ]
  },
  {
   "cell_type": "code",
   "execution_count": 3,
   "metadata": {},
   "outputs": [
    {
     "name": "stdout",
     "output_type": "stream",
     "text": [
      "<class 'pandas.core.frame.DataFrame'>\n",
      "RangeIndex: 78 entries, 0 to 77\n",
      "Data columns (total 13 columns):\n",
      " #   Column                          Non-Null Count  Dtype  \n",
      "---  ------                          --------------  -----  \n",
      " 0   Economic_Resilience_Index       78 non-null     int64  \n",
      " 1   Country                         78 non-null     object \n",
      " 2   Fiscal_space                    78 non-null     float64\n",
      " 3   Monetary_policy_space           78 non-null     float64\n",
      " 4   low-carbon_economy              78 non-null     float64\n",
      " 5   Insurance_penetration           78 non-null     float64\n",
      " 6   Financial_Market_development    78 non-null     float64\n",
      " 7   Human_capital                   78 non-null     float64\n",
      " 8   Economic_complexity             78 non-null     float64\n",
      " 9   Labour_market_efficiency        78 non-null     float64\n",
      " 10  Banking_industry_backdrop       78 non-null     float64\n",
      " 11  Macroeconomic_Resilience_index  78 non-null     float64\n",
      " 12  Year                            78 non-null     int64  \n",
      "dtypes: float64(10), int64(2), object(1)\n",
      "memory usage: 8.0+ KB\n"
     ]
    }
   ],
   "source": [
    "df_completo.info()"
   ]
  },
  {
   "cell_type": "code",
   "execution_count": 4,
   "metadata": {},
   "outputs": [
    {
     "data": {
      "text/plain": [
       "Economic_Resilience_Index         False\n",
       "Country                           False\n",
       "Fiscal_space                      False\n",
       "Monetary_policy_space             False\n",
       "low-carbon_economy                False\n",
       "Insurance_penetration             False\n",
       "Financial_Market_development      False\n",
       "Human_capital                     False\n",
       "Economic_complexity               False\n",
       "Labour_market_efficiency          False\n",
       "Banking_industry_backdrop         False\n",
       "Macroeconomic_Resilience_index    False\n",
       "Year                              False\n",
       "dtype: bool"
      ]
     },
     "execution_count": 4,
     "metadata": {},
     "output_type": "execute_result"
    }
   ],
   "source": [
    "df_completo.isnull().any()"
   ]
  },
  {
   "cell_type": "code",
   "execution_count": 5,
   "metadata": {},
   "outputs": [],
   "source": [
    "\n",
    "evaluation = pd.DataFrame(\n",
    "    {\n",
    "        \"Model\": [],\n",
    "        \"Details\": [],\n",
    "        \"Root Mean Squared Error (RMSE)\": [],\n",
    "        \"R-squared (training)\": [],\n",
    "        \"Adjusted R-squared (training)\": [],\n",
    "        \"R-squared (test)\": [],\n",
    "        \"Adjusted R-squared (test)\": [],\n",
    "        \"5-Fold Cross Validation\": []\n",
    "    }\n",
    ")"
   ]
  },
  {
   "cell_type": "code",
   "execution_count": 6,
   "metadata": {},
   "outputs": [],
   "source": [
    "def adjusted_r2(r2, n, k):\n",
    "    return r2 - (n - 1) * (1 - r2) / (n - k - 1)"
   ]
  },
  {
   "cell_type": "code",
   "execution_count": 26,
   "metadata": {},
   "outputs": [
    {
     "name": "stdout",
     "output_type": "stream",
     "text": [
      "Intercept: 0.33704720320053894\n",
      "Coefficients: [ 0.20878239 -0.63105576 -0.70116307  0.67378519 -0.59660809]\n"
     ]
    }
   ],
   "source": [
    "train_data, test_data = train_test_split(df_completo, train_size=0.8, random_state=3)\n",
    "\n",
    "independent_var = [\"Financial_Market_development\", \n",
    "                   \"low-carbon_economy\",  \n",
    "                   \"Economic_complexity\", \n",
    "                   \"Labour_market_efficiency\", \n",
    "                   \"Banking_industry_backdrop\",\n",
    "                   #\"Fiscal_space\", \n",
    "                   #\"Monetary_policy_space\", \n",
    "                   #\"Human_capital\"\n",
    "                  ]\n",
    "lin_reg = LinearRegression()\n",
    "lin_reg.fit(train_data[independent_var], train_data[\"Insurance_penetration\"])\n",
    "\n",
    "print(f\"Intercept: {lin_reg.intercept_}\")\n",
    "print(f\"Coefficients: {lin_reg.coef_}\")"
   ]
  },
  {
   "cell_type": "code",
   "execution_count": 27,
   "metadata": {},
   "outputs": [],
   "source": [
    "pred = lin_reg.predict(test_data[independent_var])"
   ]
  },
  {
   "cell_type": "code",
   "execution_count": 28,
   "metadata": {},
   "outputs": [
    {
     "data": {
      "text/html": [
       "<div>\n",
       "<style scoped>\n",
       "    .dataframe tbody tr th:only-of-type {\n",
       "        vertical-align: middle;\n",
       "    }\n",
       "\n",
       "    .dataframe tbody tr th {\n",
       "        vertical-align: top;\n",
       "    }\n",
       "\n",
       "    .dataframe thead th {\n",
       "        text-align: right;\n",
       "    }\n",
       "</style>\n",
       "<table border=\"1\" class=\"dataframe\">\n",
       "  <thead>\n",
       "    <tr style=\"text-align: right;\">\n",
       "      <th></th>\n",
       "      <th>Model</th>\n",
       "      <th>Details</th>\n",
       "      <th>Root Mean Squared Error (RMSE)</th>\n",
       "      <th>R-squared (training)</th>\n",
       "      <th>Adjusted R-squared (training)</th>\n",
       "      <th>R-squared (test)</th>\n",
       "      <th>Adjusted R-squared (test)</th>\n",
       "      <th>5-Fold Cross Validation</th>\n",
       "    </tr>\n",
       "  </thead>\n",
       "  <tbody>\n",
       "    <tr>\n",
       "      <th>3</th>\n",
       "      <td>Multiple Linear Regression-1</td>\n",
       "      <td>Selected features</td>\n",
       "      <td>0.019443</td>\n",
       "      <td>0.852235</td>\n",
       "      <td>0.691276</td>\n",
       "      <td>0.789303</td>\n",
       "      <td>0.473257</td>\n",
       "      <td>0.806066</td>\n",
       "    </tr>\n",
       "    <tr>\n",
       "      <th>2</th>\n",
       "      <td>Multiple Linear Regression-1</td>\n",
       "      <td>Selected features</td>\n",
       "      <td>0.018891</td>\n",
       "      <td>0.859107</td>\n",
       "      <td>0.702844</td>\n",
       "      <td>0.795293</td>\n",
       "      <td>0.454115</td>\n",
       "      <td>0.800163</td>\n",
       "    </tr>\n",
       "    <tr>\n",
       "      <th>1</th>\n",
       "      <td>Multiple Linear Regression-1</td>\n",
       "      <td>Selected features</td>\n",
       "      <td>0.019779</td>\n",
       "      <td>0.863410</td>\n",
       "      <td>0.709113</td>\n",
       "      <td>0.785663</td>\n",
       "      <td>0.383781</td>\n",
       "      <td>0.796003</td>\n",
       "    </tr>\n",
       "    <tr>\n",
       "      <th>0</th>\n",
       "      <td>Multiple Linear Regression-1</td>\n",
       "      <td>Selected features</td>\n",
       "      <td>0.019690</td>\n",
       "      <td>0.863486</td>\n",
       "      <td>0.706366</td>\n",
       "      <td>0.786634</td>\n",
       "      <td>0.329421</td>\n",
       "      <td>0.769984</td>\n",
       "    </tr>\n",
       "  </tbody>\n",
       "</table>\n",
       "</div>"
      ],
      "text/plain": [
       "                          Model            Details  \\\n",
       "3  Multiple Linear Regression-1  Selected features   \n",
       "2  Multiple Linear Regression-1  Selected features   \n",
       "1  Multiple Linear Regression-1  Selected features   \n",
       "0  Multiple Linear Regression-1  Selected features   \n",
       "\n",
       "   Root Mean Squared Error (RMSE)  R-squared (training)  \\\n",
       "3                        0.019443              0.852235   \n",
       "2                        0.018891              0.859107   \n",
       "1                        0.019779              0.863410   \n",
       "0                        0.019690              0.863486   \n",
       "\n",
       "   Adjusted R-squared (training)  R-squared (test)  Adjusted R-squared (test)  \\\n",
       "3                       0.691276          0.789303                   0.473257   \n",
       "2                       0.702844          0.795293                   0.454115   \n",
       "1                       0.709113          0.785663                   0.383781   \n",
       "0                       0.706366          0.786634                   0.329421   \n",
       "\n",
       "   5-Fold Cross Validation  \n",
       "3                 0.806066  \n",
       "2                 0.800163  \n",
       "1                 0.796003  \n",
       "0                 0.769984  "
      ]
     },
     "execution_count": 28,
     "metadata": {},
     "output_type": "execute_result"
    }
   ],
   "source": [
    "rmse = metrics.mean_squared_error(test_data[\"Insurance_penetration\"], pred)\n",
    "r2_train = lin_reg.score(train_data[independent_var], train_data[\"Insurance_penetration\"])\n",
    "ar2_train = adjusted_r2(\n",
    "    r2_train,\n",
    "    train_data.shape[0],\n",
    "    len(independent_var)\n",
    ")\n",
    "\n",
    "r2_test = lin_reg.score(test_data[independent_var], test_data[\"Insurance_penetration\"])\n",
    "ar2_test = adjusted_r2(\n",
    "    r2_test,\n",
    "    test_data.shape[0],\n",
    "    len(independent_var)\n",
    ")\n",
    "\n",
    "cross_val = cross_val_score(lin_reg, df_completo[independent_var], df_completo[\"Insurance_penetration\"], cv=5).mean()\n",
    "\n",
    "r = evaluation.shape[0]\n",
    "evaluation.loc[r] = [\"Multiple Linear Regression-1\", \"Selected features\", rmse, r2_train, ar2_train, r2_test, ar2_test, cross_val]\n",
    "evaluation.sort_values(by=\"5-Fold Cross Validation\", ascending=False)"
   ]
  },
  {
   "cell_type": "code",
   "execution_count": 29,
   "metadata": {},
   "outputs": [],
   "source": [
    "\n",
    "# Retorna um array de zeros com o mesmo shape e tipo do array dado\n",
    "mask = np.zeros_like(df_completo.corr(), dtype=bool)\n",
    "\n",
    "# Retorna os índices apenas do triângulo superior do array\n",
    "mask[np.triu_indices_from(mask)] = True"
   ]
  },
  {
   "cell_type": "code",
   "execution_count": 30,
   "metadata": {},
   "outputs": [
    {
     "data": {
      "text/plain": [
       "<AxesSubplot:title={'center':'Pearson Correlation Matrix'}>"
      ]
     },
     "execution_count": 30,
     "metadata": {},
     "output_type": "execute_result"
    },
    {
     "data": {
      "image/png": "[encoded data removed]",
      "text/plain": [
       "<Figure size 864x576 with 2 Axes>"
      ]
     },
     "metadata": {
      "needs_background": "light"
     },
     "output_type": "display_data"
    }
   ],
   "source": [
    "plt.subplots(figsize=(12, 8))\n",
    "plt.title(\"Pearson Correlation Matrix\", fontsize=25)\n",
    "\n",
    "sns.heatmap(\n",
    "    df_completo.corr(),\n",
    "    linewidths=0.25,\n",
    "    square=True,\n",
    "    cmap=\"Blues\",\n",
    "    linecolor=\"w\",\n",
    "    annot=True,\n",
    "    annot_kws={\"size\": 8},\n",
    "    mask=mask,\n",
    "    cbar_kws={\"shrink\": 0.9}\n",
    ")"
   ]
  },
  {
   "cell_type": "code",
   "execution_count": 31,
   "metadata": {},
   "outputs": [
    {
     "name": "stdout",
     "output_type": "stream",
     "text": [
      "                              OLS Regression Results                             \n",
      "=================================================================================\n",
      "Dep. Variable:     Insurance_penetration   R-squared:                       0.846\n",
      "Model:                               OLS   Adj. R-squared:                  0.835\n",
      "Method:                    Least Squares   F-statistic:                     78.87\n",
      "Date:                   Mon, 01 Nov 2021   Prob (F-statistic):           8.26e-28\n",
      "Time:                           10:29:58   Log-Likelihood:                 45.301\n",
      "No. Observations:                     78   AIC:                            -78.60\n",
      "Df Residuals:                         72   BIC:                            -64.46\n",
      "Df Model:                              5                                         \n",
      "Covariance Type:               nonrobust                                         \n",
      "==============================================================================\n",
      "                 coef    std err          t      P>|t|      [0.025      0.975]\n",
      "------------------------------------------------------------------------------\n",
      "const          0.3260      0.062      5.220      0.000       0.202       0.451\n",
      "x1             0.3126      0.099      3.149      0.002       0.115       0.510\n",
      "x2            -0.6169      0.055    -11.256      0.000      -0.726      -0.508\n",
      "x3            -0.7269      0.114     -6.378      0.000      -0.954      -0.500\n",
      "x4             0.6629      0.063     10.575      0.000       0.538       0.788\n",
      "x5            -0.5792      0.095     -6.075      0.000      -0.769      -0.389\n",
      "==============================================================================\n",
      "Omnibus:                        6.287   Durbin-Watson:                   2.260\n",
      "Prob(Omnibus):                  0.043   Jarque-Bera (JB):                6.915\n",
      "Skew:                          -0.387   Prob(JB):                       0.0315\n",
      "Kurtosis:                       4.236   Cond. No.                         12.0\n",
      "==============================================================================\n",
      "\n",
      "Notes:\n",
      "[1] Standard Errors assume that the covariance matrix of the errors is correctly specified.\n"
     ]
    }
   ],
   "source": [
    "X = np.column_stack((df_completo['Financial_Market_development'], \n",
    "                     df_completo['low-carbon_economy'], \n",
    "                     df_completo['Economic_complexity'], \n",
    "                     df_completo['Labour_market_efficiency'], \n",
    "                     df_completo['Banking_industry_backdrop'],\n",
    "                     #df_completo['Human_capital'], \n",
    "                     #df_completo['Monetary_policy_space'], \n",
    "                     #df_completo['Fiscal_space'] \n",
    "                     ))\n",
    "y = df_completo['Insurance_penetration']\n",
    "\n",
    "\n",
    "X2 = sm.add_constant(X)\n",
    "est = sm.OLS(y, X2)\n",
    "est2 = est.fit()\n",
    "print(est2.summary())\n"
   ]
  },
  {
   "cell_type": "code",
   "execution_count": 13,
   "metadata": {},
   "outputs": [
    {
     "data": {
      "text/plain": [
       "('Fiscal_space', 'Monetary_policy_space', 'Human_capital')"
      ]
     },
     "execution_count": 13,
     "metadata": {},
     "output_type": "execute_result"
    }
   ],
   "source": [
    "df_completo['Human_capital'], df_completo['Monetary_policy_space'], df_completo['Fiscal_space'], \n",
    "\n",
    "\"Fiscal_space\", \"Monetary_policy_space\", \"Human_capital\", "
   ]
  }
 ],
 "metadata": {
  "kernelspec": {
   "display_name": "Python 3",
   "language": "python",
   "name": "python3"
  },
  "language_info": {
   "codemirror_mode": {
    "name": "ipython",
    "version": 3
   },
   "file_extension": ".py",
   "mimetype": "text/x-python",
   "name": "python",
   "nbconvert_exporter": "python",
   "pygments_lexer": "ipython3",
   "version": "3.9.6"
  }
 },
 "nbformat": 4,
 "nbformat_minor": 4
}
